{
 "cells": [
  {
   "cell_type": "markdown",
   "metadata": {},
   "source": [
    "# Lasso and Bootstrap Examples\n",
    "\n",
    "### mtcars Analysis - Lasso Example\n",
    "For response $y$ with predictors $x_{1},...,x_{p}$ the least squares estimator is the set of $\\beta$s ,$\\left(\\hat{\\beta_{0}}, \\hat{\\beta_{1}}, ..., \\hat{\\beta_{p}} \\right)$, that minimizes\n",
    "\n",
    "$$\\frac{1}{N}\\sum_{i=1}^{n} \\left( y_{i} - \\beta_{0} - \\beta_{1}x_{1} - ... - \\beta_{p}x_{ip} \\right)^2$$\n",
    "\n",
    "The lasso estimator, $\\lambda$, is defined the same way as the least squared estimator, but it adds a penalty based on the value of lambda. This penalty will shrink the coefficients towards 0, creating a model with fewer predictors. This is especially helpful when the number of variables (p) is almost as big or bigger than the number of observations (n). "
   ]
  },
  {
   "cell_type": "code",
   "execution_count": 34,
   "metadata": {},
   "outputs": [
    {
     "name": "stdout",
     "output_type": "stream",
     "text": [
      "\n",
      "The downloaded binary packages are in\n",
      "\t/var/folders/14/0286vgm17ynbvnkzv81_5hvh0000gn/T//RtmpIsfd4l/downloaded_packages\n"
     ]
    }
   ],
   "source": [
    "install.packages(\"glmnet\")\n",
    "library(glmnet)"
   ]
  },
  {
   "cell_type": "code",
   "execution_count": 35,
   "metadata": {},
   "outputs": [
    {
     "data": {
      "text/plain": [
       "11 x 1 sparse Matrix of class \"dgCMatrix\"\n",
       "                      1\n",
       "(Intercept) 36.44500429\n",
       "cyl         -0.89288058\n",
       "disp         .         \n",
       "hp          -0.01281976\n",
       "drat         .         \n",
       "wt          -2.78332595\n",
       "qsec         .         \n",
       "vs           .         \n",
       "am           0.01347181\n",
       "gear         .         \n",
       "carb         .         "
      ]
     },
     "metadata": {},
     "output_type": "display_data"
    }
   ],
   "source": [
    "x <- with(mtcars, cbind(cyl, disp, hp, drat, wt, qsec, vs, am, gear, carb))\n",
    "y <- mtcars$mpg\n",
    "set.seed(1)\n",
    "lasso_m <- cv.glmnet(x,y)\n",
    "coefficients(lasso_m, s='lambda.min')"
   ]
  },
  {
   "cell_type": "markdown",
   "metadata": {},
   "source": [
    "I will use the variables cyl, hp, and wt in my model."
   ]
  },
  {
   "cell_type": "markdown",
   "metadata": {},
   "source": [
    "$\\lambda$ was selected using 10 folds cross validation with a set seed of 1. Many different values of lambda were fit, then 10 folds cross validation was used on the lambda values to determine which lambda provided the smallest cross validation error, ($\\lambda$ min). Then, the lambda that produced the smallest model within one standard error of the lambda min model was selected ($\\lambda$ 1se).\n",
    "\n",
    "The point of using the lasso model is to minimize the magnitude of coefficients. Some variables will have coefficients that start off large, then shrink to zero quickly through the lasso model, where others may start off with small coefficients but remain robust through the lasso model. This is because the size of the coefficient is related to the scale of the predictor. "
   ]
  },
  {
   "cell_type": "markdown",
   "metadata": {},
   "source": [
    "### Ornstein Car Dataset Analysis - Bootstrap Example"
   ]
  },
  {
   "cell_type": "markdown",
   "metadata": {},
   "source": [
    "##### How bootstrapping works:\n",
    "Step 1: Resample the data with replacement to get a new bootstrap data the same size as the original sample.\n",
    "\n",
    "Step 2: Fit the linear regression model using the bootstrapped data.\n",
    "\n",
    "Step 3: Repeat the above two steps 10,000 times. The standard errors for the intercept and asset coefficient are the standard deviation of the 10,000 intercept and asset coefficients, respectively."
   ]
  },
  {
   "cell_type": "code",
   "execution_count": 36,
   "metadata": {},
   "outputs": [],
   "source": [
    "library(car)"
   ]
  },
  {
   "cell_type": "code",
   "execution_count": 37,
   "metadata": {},
   "outputs": [
    {
     "data": {
      "text/html": [
       "<dl class=dl-horizontal>\n",
       "\t<dt>(Intercept)</dt>\n",
       "\t\t<dd>0.729621717413012</dd>\n",
       "\t<dt>assets</dt>\n",
       "\t\t<dd>8.84035418548277e-05</dd>\n",
       "</dl>\n"
      ],
      "text/latex": [
       "\\begin{description*}\n",
       "\\item[(Intercept)] 0.729621717413012\n",
       "\\item[assets] 8.84035418548277e-05\n",
       "\\end{description*}\n"
      ],
      "text/markdown": [
       "(Intercept)\n",
       ":   0.729621717413012assets\n",
       ":   8.84035418548277e-05\n",
       "\n"
      ],
      "text/plain": [
       " (Intercept)       assets \n",
       "7.296217e-01 8.840354e-05 "
      ]
     },
     "metadata": {},
     "output_type": "display_data"
    }
   ],
   "source": [
    "set.seed(1)\n",
    "source(\"https://sites.google.com/site/bsherwood/bootstrap_code.r\")\n",
    "m1 <- lm(interlocks ~ assets, Ornstein)\n",
    "bootstrap_lm(m1) # This function code can be found at the site inside the source function"
   ]
  },
  {
   "cell_type": "markdown",
   "metadata": {},
   "source": [
    "##### Hypothesis test\n",
    "\n",
    "Is the coefficient for assets zero, or not?\n",
    "\n",
    "$H_{0}: \\beta_{1} = 0$\n",
    "\n",
    "$H_{1}: \\beta_{1} \\neq 0$\n",
    "\n",
    "$p-value: 8.840 \\times 10^{-5}$\n",
    "\n",
    "This is a very small p-value, so we can reject our null hypothesis and assume that the variable ‘assets’ does have an effect on the model.  "
   ]
  },
  {
   "cell_type": "markdown",
   "metadata": {},
   "source": [
    "## Linear Regression, Boostrap, and Lasso Model Comparison: \n",
    "\n",
    "#### Does Percentage of Canopy Cover or Age of the Forest Affect the Number of Salamanders Found?\n",
    "\n",
    "This dataset is from: Ramsey, F.L. and Schafer, D.W. (2002). The Statistical Sleuth: A Course in Methods of Data Analysis (2nd ed), Duxbury. \n",
    "\n",
    "##### Description of the dataset, from the documentation:\n",
    "The Del Norte Salamander (plethodon elongates) is a small (5–7 cm) salamander found among rock rubble, rock outcrops and moss-covered talus in a narrow range of northwest California. To study the habitat characteristics of the species and particularly the tendency of these salamanders to reside in dwindling old-growth forests, researchers selected 47 sites from plausible salamander habitat in national forest and parkland. Randomly chosen grid points were searched for the presence of a site with suitable rocky habitat. At each suitable site, a 7 metre by 7 metre search are was examined for the number of salamanders it contained. This data frame contains the counts of salamanders at the sites, along with the percentage of forest canopy and age of the forest in years. \n",
    "\n",
    "##### Variables:\n",
    "* Site: Investigated site\n",
    "* Salaman: Number of salamanders found in 49 square meter area\n",
    "* PctCover: Percentage of Canopy Cover\n",
    "* Forestage: Forest age"
   ]
  },
  {
   "cell_type": "code",
   "execution_count": 38,
   "metadata": {},
   "outputs": [
    {
     "name": "stdout",
     "output_type": "stream",
     "text": [
      "\n",
      "The downloaded binary packages are in\n",
      "\t/var/folders/14/0286vgm17ynbvnkzv81_5hvh0000gn/T//RtmpIsfd4l/downloaded_packages\n"
     ]
    }
   ],
   "source": [
    "install.packages('Sleuth2')\n",
    "library(Sleuth2)\n",
    "# help(case2202) # Uncomment if you want to look at the documentation for this data"
   ]
  },
  {
   "cell_type": "markdown",
   "metadata": {},
   "source": [
    "**First** I will run a linear regression of Salaman on PctCover and Forestage."
   ]
  },
  {
   "cell_type": "code",
   "execution_count": 39,
   "metadata": {},
   "outputs": [
    {
     "data": {
      "text/plain": [
       "\n",
       "Call:\n",
       "lm(formula = Salaman ~ PctCover + Forestage, data = case2202)\n",
       "\n",
       "Residuals:\n",
       "    Min      1Q  Median      3Q     Max \n",
       "-3.9357 -1.9303 -0.2844  0.7568  9.2906 \n",
       "\n",
       "Coefficients:\n",
       "              Estimate Std. Error t value Pr(>|t|)   \n",
       "(Intercept) -0.2847570  0.8532482  -0.334  0.74017   \n",
       "PctCover     0.0456223  0.0158100   2.886  0.00603 **\n",
       "Forestage    0.0003679  0.0029230   0.126  0.90042   \n",
       "---\n",
       "Signif. codes:  0 ‘***’ 0.001 ‘**’ 0.01 ‘*’ 0.05 ‘.’ 0.1 ‘ ’ 1\n",
       "\n",
       "Residual standard error: 2.993 on 44 degrees of freedom\n",
       "Multiple R-squared:  0.2472,\tAdjusted R-squared:  0.213 \n",
       "F-statistic: 7.225 on 2 and 44 DF,  p-value: 0.001935\n"
      ]
     },
     "metadata": {},
     "output_type": "display_data"
    }
   ],
   "source": [
    "m1 <- lm(Salaman ~ PctCover + Forestage, case2202)\n",
    "summary(m1)"
   ]
  },
  {
   "cell_type": "markdown",
   "metadata": {},
   "source": [
    "It appears that PctCover is slightly significant, but not to the p <.05 level. "
   ]
  },
  {
   "cell_type": "code",
   "execution_count": 40,
   "metadata": {},
   "outputs": [
    {
     "data": {
      "text/html": [
       "<dl class=dl-horizontal>\n",
       "\t<dt>(Intercept)</dt>\n",
       "\t\t<dd>0.293848405799467</dd>\n",
       "\t<dt>PctCover</dt>\n",
       "\t\t<dd>0.0152904254798619</dd>\n",
       "\t<dt>Forestage</dt>\n",
       "\t\t<dd>0.00344673436653409</dd>\n",
       "</dl>\n"
      ],
      "text/latex": [
       "\\begin{description*}\n",
       "\\item[(Intercept)] 0.293848405799467\n",
       "\\item[PctCover] 0.0152904254798619\n",
       "\\item[Forestage] 0.00344673436653409\n",
       "\\end{description*}\n"
      ],
      "text/markdown": [
       "(Intercept)\n",
       ":   0.293848405799467PctCover\n",
       ":   0.0152904254798619Forestage\n",
       ":   0.00344673436653409\n",
       "\n"
      ],
      "text/plain": [
       "(Intercept)    PctCover   Forestage \n",
       "0.293848406 0.015290425 0.003446734 "
      ]
     },
     "metadata": {},
     "output_type": "display_data"
    }
   ],
   "source": [
    "bootstrap_lm(m1)"
   ]
  },
  {
   "cell_type": "markdown",
   "metadata": {},
   "source": [
    "This function outputs the p-value of the variables. The bootstrapped model indicates that both PctCover and Forestage are significant at p<.05. "
   ]
  },
  {
   "cell_type": "code",
   "execution_count": 41,
   "metadata": {},
   "outputs": [
    {
     "data": {
      "text/plain": [
       "3 x 1 sparse Matrix of class \"dgCMatrix\"\n",
       "                     1\n",
       "(Intercept) 0.17587896\n",
       "PctCover    0.03886497\n",
       "Forestage   .         "
      ]
     },
     "metadata": {},
     "output_type": "display_data"
    }
   ],
   "source": [
    "x <- with(case2202, cbind(PctCover, Forestage))\n",
    "y <- case2202$Salaman\n",
    "set.seed(1)\n",
    "lasso_m <- cv.glmnet(x,y)\n",
    "coefficients(lasso_m, s='lambda.min')"
   ]
  },
  {
   "cell_type": "markdown",
   "metadata": {},
   "source": [
    "##### Conclusion\n",
    "\n",
    "The Lasso model indicates that the PctCover variable should be included, but not the Forestage variable. The bootstrap model indicates that both variables could be siginficant. The linear regression shows PctCover to be slightly significant. In this case, I conclude that the best model is one that contains only PctCover as a variable.  "
   ]
  },
  {
   "cell_type": "code",
   "execution_count": 42,
   "metadata": {},
   "outputs": [
    {
     "data": {
      "text/plain": [
       "\n",
       "Call:\n",
       "lm(formula = Salaman ~ PctCover, data = case2202)\n",
       "\n",
       "Residuals:\n",
       "    Min      1Q  Median      3Q     Max \n",
       "-3.9688 -1.9220 -0.2974  0.7571  9.3124 \n",
       "\n",
       "Coefficients:\n",
       "            Estimate Std. Error t value Pr(>|t|)    \n",
       "(Intercept) -0.29606    0.83918  -0.353 0.725890    \n",
       "PctCover     0.04687    0.01220   3.841 0.000381 ***\n",
       "---\n",
       "Signif. codes:  0 ‘***’ 0.001 ‘**’ 0.01 ‘*’ 0.05 ‘.’ 0.1 ‘ ’ 1\n",
       "\n",
       "Residual standard error: 2.96 on 45 degrees of freedom\n",
       "Multiple R-squared:  0.2469,\tAdjusted R-squared:  0.2302 \n",
       "F-statistic: 14.76 on 1 and 45 DF,  p-value: 0.0003806\n"
      ]
     },
     "metadata": {},
     "output_type": "display_data"
    }
   ],
   "source": [
    "m1 <- lm(Salaman ~ PctCover, case2202)\n",
    "summary(m1)"
   ]
  }
 ],
 "metadata": {
  "kernelspec": {
   "display_name": "R",
   "language": "R",
   "name": "ir"
  },
  "language_info": {
   "codemirror_mode": "r",
   "file_extension": ".r",
   "mimetype": "text/x-r-source",
   "name": "R",
   "pygments_lexer": "r",
   "version": "3.6.1"
  }
 },
 "nbformat": 4,
 "nbformat_minor": 2
}
