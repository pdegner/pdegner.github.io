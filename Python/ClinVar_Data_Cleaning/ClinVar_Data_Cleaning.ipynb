{
 "cells": [
  {
   "cell_type": "markdown",
   "metadata": {},
   "source": [
    "# Prompt\n",
    "\n",
    "This was part of my final exam for my Python course.\n",
    "\n",
    "Your boss comes to you Monday morning and says “I figured out our next step; we are going to pivot from an online craft store and become a data center for genetic disease information! I found **ClinVar** which is a repository that contains expert curated data, and it is free for the taking. This is a gold mine! Look at the file and tell me what gene and mutation combinations are classified as dangerous.”\n",
    "\n",
    "Make sure that you only give your boss the dangerous mutations and include:\n",
    "\n",
    "1) Gene name\n",
    "\n",
    "2) Mutation ID number\n",
    "\n",
    "3) Mutation Position (chromosome & position)\n",
    "\n",
    "4) Mutation value (reference & alternate bases)\n",
    "\n",
    "5) Clinical severity \n",
    "\n",
    "6) Disease that is implicated\n",
    "\n",
    "* Limit your output to the first 100 harmful mutations and tell your boss how many total harmful mutations were found in the file\n",
    "\n",
    "* Use a modified \"clinvar_final.txt\" at this link: https://drive.google.com/file/d/1Zps0YssoJbZHrn6iLte2RDLlgruhAX1s/view?usp=sharing\n"
   ]
  },
  {
   "cell_type": "markdown",
   "metadata": {},
   "source": [
    "# Notes:\n",
    "### VCF file description (Summarized from version 4.1)\n",
    "\n",
    "```\n",
    "* The VCF specification:\n",
    "\n",
    "VCF is a text file format which contains meta-information lines, a header line, and then data lines each containing information about a position in the genome. The format also can contain genotype information on samples for each position.\n",
    "\n",
    "* Fixed fields:\n",
    "\n",
    "There are 8 fixed fields per record. All data lines are **tab-delimited**. In all cases, missing values are specified with a dot (‘.’). \n",
    "\n",
    "1. CHROM - chromosome number\n",
    "2. POS - position DNA nuceleotide count (bases) along the chromosome\n",
    "3. ID - The unique identifier for each mutation\n",
    "4. REF - reference base(s)\n",
    "5. ALT - alternate base(s)\n",
    "6. FILTER - filter status\n",
    "7. QUAL - quality\n",
    "8. INFO - a semicolon-separated series of keys with values in the format: <key>=<data>\n",
    "\n",
    "```\n",
    "### Applicable INFO field specifications\n",
    "\n",
    "```\n",
    "GENEINFO = <Gene name>\n",
    "CLNSIG =  <Clinical significance>\n",
    "CLNDN = <Disease name>\n",
    "```"
   ]
  },
  {
   "cell_type": "markdown",
   "metadata": {},
   "source": [
    "# Assumptions\n",
    "- I assume I only need GENEINFO, CLNSIG, and CLNDN from the INFO column and I can ignore the rest\n",
    "- I assume I should convert 'O'to 0 in POS column\n",
    "- I have ranked the \"danger level\" in this order:\n",
    "    1. Pathogenic\n",
    "    2. Likely_pathogenic\n",
    "    3. Conflicting\n",
    "    4. Other / Not_Given\n",
    "    5. Likely_benign\n",
    "    6. Benign\n",
    "- In my final dataframe I will include only ones that are \"Pathogenic\"and contain the word \"cancer\" in the \"NAME\" category (but the rest of the dataframe is ready to show if my boss asks!)\n",
    "- I will take only these values, sort by the \"POS\" column, then take the top 100 from there. \n",
    "- I will replace missing values in the dataframe with: 'Not_Given'"
   ]
  },
  {
   "cell_type": "code",
   "execution_count": 1,
   "metadata": {},
   "outputs": [],
   "source": [
    "import pandas as pd\n",
    "import io\n",
    "import os"
   ]
  },
  {
   "cell_type": "code",
   "execution_count": 3,
   "metadata": {},
   "outputs": [],
   "source": [
    "# Read in the data\n",
    "def read_vcf(path):\n",
    "    with open(path, 'r') as f:\n",
    "        lines = [l for l in f if not l.startswith('#')]\n",
    "    return pd.read_csv(\n",
    "        io.StringIO(''.join(lines)),\n",
    "        dtype={'CHROM': str, 'POS': str, 'ID': str, 'REF': str, 'ALT': str,\n",
    "               'QUAL': str, 'FILTER': str, 'INFO': str},\n",
    "        sep='\\t'\n",
    "    ).rename(columns={'CHROM': 'CHROM'})\n",
    "\n",
    "data = read_vcf(\"clinvar_final.txt\")"
   ]
  },
  {
   "cell_type": "code",
   "execution_count": 4,
   "metadata": {},
   "outputs": [],
   "source": [
    "def info_parser(info):\n",
    "    \"\"\"Extract relevant information from a cell in the info column of this dataframe.\n",
    "    Returns the information as a list.\"\"\"\n",
    "    info_str = []\n",
    "    if \"GENEINFO=\" in info:\n",
    "        gene = info[info.index(\"GENEINFO=\")+9 :]\n",
    "        if \";\" in gene:\n",
    "            gene = gene[:gene.index(\";\")]\n",
    "        info_str.append(gene)\n",
    "    else:\n",
    "        info_str.append(\"Not_Given\")\n",
    "    if \"CLNSIG=\" in info:\n",
    "        sig = info[info.index(\"CLNSIG=\")+7 :]\n",
    "        if \";\" in sig:\n",
    "            sig = sig[:sig.index(\";\")]\n",
    "        info_str.append(sig)\n",
    "    else:\n",
    "        info_str.append(\"Not_Given\")\n",
    "    if \"CLNDN=\" in info:\n",
    "        name = info[info.index(\"CLNDN=\")+6 :]\n",
    "        if \";\" in name:\n",
    "            name = name[:name.index(\";\")]\n",
    "        info_str.append(name)\n",
    "    else:\n",
    "        info_str.append(\"Not_Given\")\n",
    "\n",
    "    return info_str"
   ]
  },
  {
   "cell_type": "code",
   "execution_count": 5,
   "metadata": {},
   "outputs": [],
   "source": [
    "# Convert INFO column to lists\n",
    "data[\"INFO\"] = data[\"INFO\"].apply(info_parser)\n",
    "\n",
    "#Convert lists into columns and add to dataframe\n",
    "info_col = data[\"INFO\"].apply(pd.Series)\n",
    "info_col = info_col.rename(columns = {0:\"GENE\", 1:\"SIG\", 2:\"NAME\"})\n",
    "data = pd.concat([data[:], info_col[:]], axis = 1)\n",
    "data = data.drop(\"INFO\", axis = 1)"
   ]
  },
  {
   "cell_type": "code",
   "execution_count": 6,
   "metadata": {},
   "outputs": [
    {
     "name": "stderr",
     "output_type": "stream",
     "text": [
      "/Users/pattidegner/opt/anaconda3/lib/python3.7/site-packages/ipykernel_launcher.py:23: SettingWithCopyWarning: \n",
      "A value is trying to be set on a copy of a slice from a DataFrame\n",
      "\n",
      "See the caveats in the documentation: http://pandas.pydata.org/pandas-docs/stable/user_guide/indexing.html#returning-a-view-versus-a-copy\n"
     ]
    }
   ],
   "source": [
    "def danger_function(row):\n",
    "    \"\"\"Sort the 'SIG' column by how dagnerous it seems to someone who is impersonating a doctor.\"\"\"\n",
    "    if \"Conflicting\" in row:\n",
    "        return 3\n",
    "    elif \"Likely_pathogenic\" in row:\n",
    "        return 2\n",
    "    elif \"Pathogenic\" in row:\n",
    "        return 1\n",
    "    elif \"Likely_benign\" in row:\n",
    "        return 5\n",
    "    elif \"Benign\" in row:\n",
    "        return 6\n",
    "    else:\n",
    "        return 4\n",
    "\n",
    "data[\"DANGER\"] = data[\"SIG\"].apply(danger_function)\n",
    "data.sort_values(by = [\"DANGER\"])\n",
    "\n",
    "# Convert \".\" in everything and'O'to 0 in POS column\n",
    "data = data.replace(to_replace = '.', value = \"Not_Given\")\n",
    "for i in range(len(data[\"POS\"])):\n",
    "    if \"O\" in data[\"POS\"][i]:\n",
    "        data[\"POS\"][i] = data[\"POS\"][i].replace(\"O\", \"0\")"
   ]
  },
  {
   "cell_type": "code",
   "execution_count": 7,
   "metadata": {},
   "outputs": [
    {
     "data": {
      "text/html": [
       "<div>\n",
       "<style scoped>\n",
       "    .dataframe tbody tr th:only-of-type {\n",
       "        vertical-align: middle;\n",
       "    }\n",
       "\n",
       "    .dataframe tbody tr th {\n",
       "        vertical-align: top;\n",
       "    }\n",
       "\n",
       "    .dataframe thead th {\n",
       "        text-align: right;\n",
       "    }\n",
       "</style>\n",
       "<table border=\"1\" class=\"dataframe\">\n",
       "  <thead>\n",
       "    <tr style=\"text-align: right;\">\n",
       "      <th></th>\n",
       "      <th>GENE</th>\n",
       "      <th>ID</th>\n",
       "      <th>CHROM_POS</th>\n",
       "      <th>REF_ALT</th>\n",
       "      <th>SIG</th>\n",
       "      <th>NAME</th>\n",
       "      <th>DANGER</th>\n",
       "    </tr>\n",
       "  </thead>\n",
       "  <tbody>\n",
       "    <tr>\n",
       "      <td>0</td>\n",
       "      <td>ISG15:9636</td>\n",
       "      <td>475283</td>\n",
       "      <td>1 : 1014042</td>\n",
       "      <td>G : A</td>\n",
       "      <td>Benign</td>\n",
       "      <td>Immunodeficiency_38_with_basal_ganglia_calcifi...</td>\n",
       "      <td>6</td>\n",
       "    </tr>\n",
       "    <tr>\n",
       "      <td>1</td>\n",
       "      <td>ISG15:9636</td>\n",
       "      <td>542074</td>\n",
       "      <td>1 : 1014122</td>\n",
       "      <td>C : T</td>\n",
       "      <td>Uncertain_significance</td>\n",
       "      <td>Immunodeficiency_38_with_basal_ganglia_calcifi...</td>\n",
       "      <td>4</td>\n",
       "    </tr>\n",
       "    <tr>\n",
       "      <td>2</td>\n",
       "      <td>ISG15:9636</td>\n",
       "      <td>183381</td>\n",
       "      <td>1 : 1014143</td>\n",
       "      <td>C : T</td>\n",
       "      <td>Pathogenic</td>\n",
       "      <td>Immunodeficiency_38_with_basal_ganglia_calcifi...</td>\n",
       "      <td>1</td>\n",
       "    </tr>\n",
       "    <tr>\n",
       "      <td>3</td>\n",
       "      <td>ISG15:9636</td>\n",
       "      <td>542075</td>\n",
       "      <td>1 : 1014179</td>\n",
       "      <td>C : T</td>\n",
       "      <td>Uncertain_significance</td>\n",
       "      <td>Immunodeficiency_38_with_basal_ganglia_calcifi...</td>\n",
       "      <td>4</td>\n",
       "    </tr>\n",
       "    <tr>\n",
       "      <td>4</td>\n",
       "      <td>ISG15:9636</td>\n",
       "      <td>475278</td>\n",
       "      <td>1 : 1014217</td>\n",
       "      <td>C : T</td>\n",
       "      <td>Benign</td>\n",
       "      <td>Immunodeficiency_38_with_basal_ganglia_calcifi...</td>\n",
       "      <td>6</td>\n",
       "    </tr>\n",
       "  </tbody>\n",
       "</table>\n",
       "</div>"
      ],
      "text/plain": [
       "         GENE      ID    CHROM_POS REF_ALT                     SIG  \\\n",
       "0  ISG15:9636  475283  1 : 1014042   G : A                  Benign   \n",
       "1  ISG15:9636  542074  1 : 1014122   C : T  Uncertain_significance   \n",
       "2  ISG15:9636  183381  1 : 1014143   C : T              Pathogenic   \n",
       "3  ISG15:9636  542075  1 : 1014179   C : T  Uncertain_significance   \n",
       "4  ISG15:9636  475278  1 : 1014217   C : T                  Benign   \n",
       "\n",
       "                                                NAME  DANGER  \n",
       "0  Immunodeficiency_38_with_basal_ganglia_calcifi...       6  \n",
       "1  Immunodeficiency_38_with_basal_ganglia_calcifi...       4  \n",
       "2  Immunodeficiency_38_with_basal_ganglia_calcifi...       1  \n",
       "3  Immunodeficiency_38_with_basal_ganglia_calcifi...       4  \n",
       "4  Immunodeficiency_38_with_basal_ganglia_calcifi...       6  "
      ]
     },
     "execution_count": 7,
     "metadata": {},
     "output_type": "execute_result"
    }
   ],
   "source": [
    "### Sort Data\n",
    "# concat cols\n",
    "data[\"CHROM_POS\"] = data[\"CHROM\"].map(str) + \" : \" + data[\"POS\"]\n",
    "data[\"REF_ALT\"] = data[\"REF\"] + \" : \" + data[\"ALT\"]\n",
    "\n",
    "# remove unneded cols\n",
    "data = data.drop(\"FILTER\", axis = 1)\n",
    "data = data.drop(\"QUAL\", axis = 1)\n",
    "data = data.drop(\"CHROM\", axis = 1)\n",
    "data = data.drop(\"POS\", axis = 1)\n",
    "data = data.drop(\"REF\", axis = 1)\n",
    "data = data.drop(\"ALT\", axis = 1)\n",
    "\n",
    "# reorder cols\n",
    "data = data[[\"GENE\", \"ID\", \"CHROM_POS\", \"REF_ALT\", \"SIG\", \"NAME\", \"DANGER\"]]\n",
    "data.head()"
   ]
  },
  {
   "cell_type": "code",
   "execution_count": 8,
   "metadata": {},
   "outputs": [
    {
     "name": "stdout",
     "output_type": "stream",
     "text": [
      "12330\n",
      "7144\n",
      "19474\n"
     ]
    }
   ],
   "source": [
    "# How many mutations are harmful in this list?\n",
    "print(len(data[(data['DANGER'])==1]))\n",
    "print(len(data[(data['DANGER'])==2]))\n",
    "print(len(data[(data['DANGER'])<=2]))"
   ]
  },
  {
   "cell_type": "code",
   "execution_count": 9,
   "metadata": {},
   "outputs": [
    {
     "name": "stdout",
     "output_type": "stream",
     "text": [
      "1198\n"
     ]
    }
   ],
   "source": [
    "# Make the dataframe I will show my boss -> the 100 most dangerous\n",
    "df = data[data[\"DANGER\"] == 1 & (data['NAME'].str.contains(\"cancer\"))]\n",
    "print(len(df))\n",
    "df.sort_values(by = [\"CHROM_POS\"])\n",
    "boss_df = df.head(100)"
   ]
  },
  {
   "cell_type": "markdown",
   "metadata": {},
   "source": [
    "This dataframe contains the following columns:\n",
    "    1. GENE: Gene name\n",
    "    2. ID: Mutation ID number\n",
    "    3. CHROM_POS: Mutation Position (chromosome & position)\n",
    "    4. REF_ALT: Mutation value (reference & alternate bases)\n",
    "    5. SIG: Clinical severity\n",
    "    6. NAME: Disease(s) that is implicated\n",
    "    7. DANGER: Danger level\n",
    "\n",
    "The Danger level is assessed from clinical signficance. It was assigned the score below if the clinical signicance value contained that word:\n",
    "    1. Pathogenic\n",
    "    2. Likely pathogenic\n",
    "    3. Conflicting Results\n",
    "    4. Other / Not_Given\n",
    "    5. Likely benign\n",
    "    6. Benign\n",
    "\n",
    "There are 12,330 mutations that are considered \"Pathogenic\" and 7,144 that are \"Likely_pathogenic\", for a total of 19,474 harmful mutations. \n",
    "\n",
    "The final dataframe that I submitted has only mutations that are \"Pathogenic\" and where the implicated disease is cancer. There are 1,198 mutations that meet this critera. I sorted this list by mutation position then pulled the first 100 to show you. "
   ]
  }
 ],
 "metadata": {
  "kernelspec": {
   "display_name": "Python 3",
   "language": "python",
   "name": "python3"
  },
  "language_info": {
   "codemirror_mode": {
    "name": "ipython",
    "version": 3
   },
   "file_extension": ".py",
   "mimetype": "text/x-python",
   "name": "python",
   "nbconvert_exporter": "python",
   "pygments_lexer": "ipython3",
   "version": "3.7.4"
  }
 },
 "nbformat": 4,
 "nbformat_minor": 2
}
