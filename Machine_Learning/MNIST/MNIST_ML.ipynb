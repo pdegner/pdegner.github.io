{
 "cells": [
  {
   "cell_type": "markdown",
   "metadata": {
    "colab_type": "text",
    "id": "z6UHmLYVhWAN"
   },
   "source": [
    "# Digit Classification with KNN and Naive Bayes\n",
    "\n",
    "This was a project for my machine learning class"
   ]
  },
  {
   "cell_type": "code",
   "execution_count": 9,
   "metadata": {
    "colab": {},
    "colab_type": "code",
    "id": "iJ9ayCvyhWAP"
   },
   "outputs": [],
   "source": [
    "# This tells matplotlib not to try opening a new window for each plot.\n",
    "%matplotlib inline\n",
    "\n",
    "# Import a bunch of libraries.\n",
    "import time\n",
    "import numpy as np\n",
    "import matplotlib.pyplot as plt\n",
    "from matplotlib.ticker import MultipleLocator\n",
    "from sklearn.pipeline import Pipeline\n",
    "from sklearn.datasets import fetch_openml\n",
    "from sklearn.neighbors import KNeighborsClassifier\n",
    "from sklearn.metrics import confusion_matrix\n",
    "from sklearn.linear_model import LinearRegression\n",
    "from sklearn.naive_bayes import BernoulliNB\n",
    "from sklearn.naive_bayes import MultinomialNB\n",
    "from sklearn.naive_bayes import GaussianNB\n",
    "from sklearn.model_selection import GridSearchCV\n",
    "from sklearn.metrics import classification_report\n",
    "\n",
    "# Set the randomizer seed so results are the same each time.\n",
    "np.random.seed(0)"
   ]
  },
  {
   "cell_type": "markdown",
   "metadata": {
    "colab_type": "text",
    "id": "sO1t0ypThWAR"
   },
   "source": [
    "Load the data. Notice that the data gets partitioned into training, development, and test sets. Also, a small subset of the training data called mini_train_data and mini_train_labels gets defined, which you should use in all the experiments below, unless otherwise noted."
   ]
  },
  {
   "cell_type": "code",
   "execution_count": 10,
   "metadata": {
    "colab": {},
    "colab_type": "code",
    "id": "3yK9DacchWAS"
   },
   "outputs": [
    {
     "name": "stdout",
     "output_type": "stream",
     "text": [
      "data shape:  (70000, 784)\n",
      "label shape: (70000,)\n"
     ]
    }
   ],
   "source": [
    "# Load the digit data from https://www.openml.org/d/554 or from default local location '~/scikit_learn_data/...'\n",
    "X, Y = fetch_openml(name='mnist_784', return_X_y=True, cache=False)\n",
    "\n",
    "\n",
    "# Rescale grayscale values to [0,1].\n",
    "X = X / 255.0\n",
    "\n",
    "# Shuffle the input: create a random permutation of the integers between 0 and the number of data points and apply this\n",
    "# permutation to X and Y.\n",
    "# NOTE: Each time you run this cell, you'll re-shuffle the data, resulting in a different ordering.\n",
    "shuffle = np.random.permutation(np.arange(X.shape[0]))\n",
    "X, Y = X[shuffle], Y[shuffle]\n",
    "\n",
    "print('data shape: ', X.shape)\n",
    "print('label shape:', Y.shape)\n",
    "\n",
    "# Set some variables to hold test, dev, and training data.\n",
    "test_data, test_labels = X[61000:], Y[61000:]\n",
    "dev_data, dev_labels = X[60000:61000], Y[60000:61000]\n",
    "train_data, train_labels = X[:60000], Y[:60000]\n",
    "mini_train_data, mini_train_labels = X[:1000], Y[:1000]"
   ]
  },
  {
   "cell_type": "markdown",
   "metadata": {
    "colab_type": "text",
    "id": "atc2JpWKhWAV"
   },
   "source": [
    "### Show a 10x10 grid that visualizes 10 examples of each digit."
   ]
  },
  {
   "cell_type": "code",
   "execution_count": 11,
   "metadata": {
    "colab": {},
    "colab_type": "code",
    "id": "436UeH7JhWAW"
   },
   "outputs": [
    {
     "data": {
      "image/png": "[encoded data removed]",
      "text/plain": [
       "<Figure size 432x288 with 100 Axes>"
      ]
     },
     "metadata": {
      "needs_background": "light"
     },
     "output_type": "display_data"
    }
   ],
   "source": [
    "fig, axs = plt.subplots(10, 10) #sets up Nx10 grid\n",
    "for i in range(10):\n",
    "    yy = np.where(Y == str(i))[0][:10] #Get N indicies of the number of interest\n",
    "\n",
    "    #add image to its place\n",
    "    j = 0\n",
    "    for index in yy: \n",
    "        axs[i, j].imshow(np.reshape(X[index], (28,28)), interpolation='nearest', cmap = \"gray_r\") \n",
    "        axs[i, j].axis(\"off\")\n",
    "        j += 1\n",
    "plt.show()\n"
   ]
  },
  {
   "cell_type": "markdown",
   "metadata": {
    "colab_type": "text",
    "id": "EMQAHr7QhWAX"
   },
   "source": [
    "### Produce k-Nearest-Neighbors model with k = [1,3,5,7,9].  \n",
    "\n",
    "Evaluate and show the performance of each model. For the 1-Nearest Neighbor model, show precision, recall, and F1 for each label. \n"
   ]
  },
  {
   "cell_type": "code",
   "execution_count": 12,
   "metadata": {
    "colab": {},
    "colab_type": "code",
    "id": "-it5pn8-hWAY"
   },
   "outputs": [
    {
     "name": "stdout",
     "output_type": "stream",
     "text": [
      "Error rate when k = 1 is 0.116, and 2 is the most mislabeled.\n",
      "              precision    recall  f1-score   support\n",
      "\n",
      "           0       0.95      0.95      0.95       106\n",
      "           1       0.89      0.98      0.93       118\n",
      "           2       0.90      0.79      0.84       106\n",
      "           3       0.93      0.87      0.90        97\n",
      "           4       0.91      0.85      0.88        92\n",
      "           5       0.86      0.88      0.87        88\n",
      "           6       0.92      0.92      0.92       102\n",
      "           7       0.85      0.94      0.89       102\n",
      "           8       0.83      0.77      0.80        94\n",
      "           9       0.80      0.86      0.83        95\n",
      "\n",
      "    accuracy                           0.88      1000\n",
      "   macro avg       0.88      0.88      0.88      1000\n",
      "weighted avg       0.89      0.88      0.88      1000\n",
      "\n",
      "Error rate when k = 3 is 0.124, and 8 is the most mislabeled.\n",
      "Error rate when k = 5 is 0.118, and 2 is the most mislabeled.\n",
      "Error rate when k = 7 is 0.123, and 2 is the most mislabeled.\n",
      "Error rate when k = 9 is 0.125, and 2 is the most mislabeled.\n"
     ]
    }
   ],
   "source": [
    "k_values = [1, 3, 5, 7, 9]\n",
    "\n",
    "for k in k_values:\n",
    "    # Fit model when k = 1 and output extra analysis\n",
    "    if k == 1:\n",
    "        K1 = KNeighborsClassifier(n_neighbors=k).fit(mini_train_data, mini_train_labels)\n",
    "        predictions = K1.predict(dev_data)\n",
    "        report = classification_report(dev_labels, predictions)\n",
    "        errors = []\n",
    "        for i in range(len(dev_labels)):\n",
    "            if dev_labels[i] != predictions[i]:\n",
    "                errors.append(dev_labels[i])\n",
    "        print(\"Error rate when k = \"+str(k)+\" is \"+str(len(errors)/len(dev_data)) + \\\n",
    "              \", and \"+max(set(errors), key = errors.count)+\" is the most mislabeled.\")\n",
    "        print(report)\n",
    "\n",
    "    # Fit models when k >1\n",
    "    else:\n",
    "        K2 = KNeighborsClassifier(n_neighbors=k).fit(mini_train_data, mini_train_labels)\n",
    "        predictions = K2.predict(dev_data)\n",
    "        errors = []\n",
    "        for i in range(len(dev_labels)):\n",
    "            if dev_labels[i] != predictions[i]:\n",
    "                errors.append(dev_labels[i])\n",
    "        print(\"Error rate when k = \"+str(k)+\" is \"+str(len(errors)/len(dev_data)) + \\\n",
    "              \", and \"+max(set(errors), key = errors.count)+\" is the most mislabeled.\")\n",
    "\n"
   ]
  },
  {
   "cell_type": "markdown",
   "metadata": {
    "colab_type": "text",
    "id": "7b6YEAzzhWAa"
   },
   "source": [
    "### Produce 1-Nearest Neighbor models using training data of various sizes.  \n",
    "\n",
    "Evaluate and show the performance of each model.  Additionally, show the time needed to measure the performance of each model."
   ]
  },
  {
   "cell_type": "code",
   "execution_count": 25,
   "metadata": {
    "colab": {},
    "colab_type": "code",
    "id": "gEpNzDEjhWAa"
   },
   "outputs": [
    {
     "name": "stdout",
     "output_type": "stream",
     "text": [
      "Error rate when size = 100 is 0.02\n",
      "Elapesed time for 100 observations is 47.23378896713257 seconds or 0.7872298161188761 minutes.\n",
      "Error rate when size = 200 is 0.035\n",
      "Elapesed time for 200 observations is 54.242591857910156 seconds or 0.9040431976318359 minutes.\n",
      "Error rate when size = 400 is 0.035\n",
      "Elapesed time for 400 observations is 67.64456796646118 seconds or 1.1274094661076863 minutes.\n",
      "Error rate when size = 800 is 0.02875\n",
      "Elapesed time for 800 observations is 95.25564813613892 seconds or 1.5875941356023153 minutes.\n",
      "Error rate when size = 1600 is 0.018125\n",
      "Elapesed time for 1600 observations is 107.99214196205139 seconds or 1.7998690327008566 minutes.\n",
      "Error rate when size = 3200 is 0.0090625\n",
      "Elapesed time for 3200 observations is 107.93150806427002 seconds or 1.7988584677378336 minutes.\n",
      "Error rate when size = 6400 is 0.00453125\n",
      "Elapesed time for 6400 observations is 108.11047697067261 seconds or 1.8018412828445434 minutes.\n",
      "Error rate when size = 12800 is 0.002265625\n",
      "Elapesed time for 12800 observations is 108.08983707427979 seconds or 1.8014972845713297 minutes.\n",
      "Error rate when size = 25600 is 0.0011328125\n",
      "Elapesed time for 25600 observations is 108.19199085235596 seconds or 1.8031998475392659 minutes.\n",
      "[0.98, 0.965, 0.965, 0.97125, 0.981875, 0.9909375, 0.99546875, 0.997734375, 0.9988671875]\n"
     ]
    }
   ],
   "source": [
    "train_sizes = [100, 200, 400, 800, 1600, 3200, 6400, 12800, 25600]\n",
    "accuracies = []\n",
    "\n",
    "# Train a model for each size of data\n",
    "for size in train_sizes:\n",
    "    start = time.time()\n",
    "    K1 = KNeighborsClassifier(n_neighbors=1).fit(train_data, train_labels)\n",
    "    predictions = K1.predict(dev_data[:size])\n",
    "\n",
    "    # Count number of errors and calculate accuracies\n",
    "    errors = []\n",
    "    for i in range(min(size, len(dev_labels))):\n",
    "        if dev_labels[i] != predictions[i]:\n",
    "            errors.append(dev_labels[i])\n",
    "    print(\"Error rate when size = \"+str(size)+\" is \"+str(len(errors)/size))\n",
    "    accuracies.append((size-len(errors))/size)\n",
    "    end = time.time()\n",
    "    print(\"Elapesed time for \"+str(size)+\" observations is \"+str(end-start)+\" seconds or \"+str((end-start)/60)+\" minutes.\")\n",
    "\n",
    "print(accuracies)"
   ]
  },
  {
   "cell_type": "markdown",
   "metadata": {
    "colab_type": "text",
    "id": "B56lVsKNhWAc"
   },
   "source": [
    "### Produce a regression model that predicts accuracy of a 1-Nearest Neighbor model given training set size. "
   ]
  },
  {
   "cell_type": "code",
   "execution_count": 14,
   "metadata": {},
   "outputs": [],
   "source": [
    "accuracies = [0.98,0.965,0.965,0.97125,0.981875,0.9909375,0.99546875,0.997734375,0.9988671875] # Y\n",
    "train_sizes = [100, 200, 400, 800, 1600, 3200, 6400, 12800, 25600] # X\n",
    "odds = [i/(1-i) for i in accuracies] # Y"
   ]
  },
  {
   "cell_type": "code",
   "execution_count": 15,
   "metadata": {},
   "outputs": [
    {
     "name": "stdout",
     "output_type": "stream",
     "text": [
      "R-squared standard model: 0.54\n"
     ]
    },
    {
     "data": {
      "image/png": "[encoded data removed]",
      "text/plain": [
       "<Figure size 432x288 with 1 Axes>"
      ]
     },
     "metadata": {
      "needs_background": "light"
     },
     "output_type": "display_data"
    },
    {
     "name": "stdout",
     "output_type": "stream",
     "text": [
      "The estimated accuracy for 60000 training points is 1.0464348933893306\n",
      "The estimated accuracy for 120000 training points is 1.1166064492908208\n",
      "The estimated accuracy for 1000000 training points is 2.1457892691793443\n",
      "\n",
      "\n",
      "\n",
      "\n",
      "\n",
      "R-squared for log sizes: 0.73\n"
     ]
    },
    {
     "data": {
      "image/png": "[encoded data removed]",
      "text/plain": [
       "<Figure size 432x288 with 1 Axes>"
      ]
     },
     "metadata": {
      "needs_background": "light"
     },
     "output_type": "display_data"
    },
    {
     "name": "stdout",
     "output_type": "stream",
     "text": [
      "The estimated accuracy for 60000 training points is 367.8106324657777\n",
      "The estimated accuracy for 120000 training points is 734.6834729418389\n",
      "The estimated accuracy for 1000000 training points is 6115.485133257403\n",
      "\n",
      "\n",
      "\n",
      "\n",
      "\n",
      "R-squared for log sizes vs. odds: 0.64\n"
     ]
    },
    {
     "data": {
      "image/png": "[encoded data removed]",
      "text/plain": [
       "<Figure size 432x288 with 1 Axes>"
      ]
     },
     "metadata": {
      "needs_background": "light"
     },
     "output_type": "display_data"
    },
    {
     "name": "stdout",
     "output_type": "stream",
     "text": [
      "The estimated accuracy for 60000 training points is 0.9999998621639768\n",
      "The estimated accuracy for 120000 training points is 0.9999999310852483\n",
      "The estimated accuracy for 1000000 training points is 0.999999991730574\n",
      "\n",
      "\n",
      "\n",
      "\n",
      "\n",
      "R-squared for odds: 1.00\n"
     ]
    },
    {
     "data": {
      "image/png": "[encoded data removed]",
      "text/plain": [
       "<Figure size 432x288 with 1 Axes>"
      ]
     },
     "metadata": {
      "needs_background": "light"
     },
     "output_type": "display_data"
    },
    {
     "name": "stdout",
     "output_type": "stream",
     "text": [
      "The estimated accuracy for 60000 training points is 0.9995081755520061\n",
      "The estimated accuracy for 120000 training points is 0.9997531893050895\n",
      "The estimated accuracy for 1000000 training points is 0.9999702871842772\n",
      "\n",
      "\n",
      "\n",
      "\n",
      "\n"
     ]
    }
   ],
   "source": [
    "train_sizes = np.array(train_sizes).reshape(-1, 1)\n",
    "predict_on = np.array([60000, 120000, 1000000]).reshape(-1, 1)\n",
    "accuracies = np.array(accuracies).reshape(-1,1)\n",
    "x = [100, 200, 400, 800, 1600, 3200, 6400, 12800, 25600] # Unshaped train_sizes\n",
    "y = [0.98,0.965,0.965,0.97125,0.981875,0.9909375,0.99546875,0.997734375,0.9988671875] # Unshaped accuracies\n",
    "\n",
    "### train_sizes vs. accuracies\n",
    "regr = LinearRegression()\n",
    "regr.fit(train_sizes, accuracies)\n",
    "predictions = regr.predict(accuracies)\n",
    "print('R-squared standard model: %.2f'% regr.score(train_sizes, accuracies))\n",
    "\n",
    "# plot a graph\n",
    "coef = np.polyfit(x, y, 1)\n",
    "fn_line = np.poly1d(coef)\n",
    "plt.plot(x, y, 'o', x, fn_line(x), '--k')\n",
    "plt.title(\"Standard Model\")\n",
    "plt.xlabel(\"Train Sizes\")\n",
    "plt.ylabel(\"Accuracies\")\n",
    "plt.show()\n",
    "\n",
    "# Predict\n",
    "new_pred = regr.predict(predict_on)\n",
    "for i in range(len(predict_on)):\n",
    "    print(\"The estimated accuracy for \"+ str(predict_on[i][0])+ \" training points is \"+ str(new_pred[i][0]))\n",
    "print('''\n",
    "\n",
    "\n",
    "\n",
    "''')\n",
    "\n",
    "\n",
    "### log trin_sizes vs. accuracies\n",
    "log_train_sizes = [np.log(i)[0] for i in train_sizes]\n",
    "regr = LinearRegression()\n",
    "regr.fit(np.array(log_train_sizes).reshape(-1,1), accuracies)\n",
    "predictions = regr.predict(accuracies)\n",
    "print('R-squared for log sizes: %.2f'% regr.score(np.array(log_train_sizes).reshape(-1,1), accuracies))\n",
    "\n",
    "# plot a graph\n",
    "coef = np.polyfit(log_train_sizes, y, 1)\n",
    "fn_line = np.poly1d(coef)\n",
    "plt.plot(log_train_sizes, y, 'o', log_train_sizes, fn_line(log_train_sizes), '--k')\n",
    "plt.title(\"Log train sizes vs. accuracies\")\n",
    "plt.xlabel(\"Log Train Sizes\")\n",
    "plt.ylabel(\"Accuracies\")\n",
    "plt.show() \n",
    "\n",
    "# Predict\n",
    "new_pred = regr.predict(predict_on)\n",
    "for i in range(len(predict_on)):\n",
    "    print(\"The estimated accuracy for \"+ str(predict_on[i][0])+ \" training points is \"+ str(new_pred[i][0]))\n",
    "print('''\n",
    "\n",
    "\n",
    "\n",
    "''')\n",
    "\n",
    "\n",
    "### log train_sizes vs. odds\n",
    "odds = [a/(1-a) for a in y]\n",
    "regr = LinearRegression()\n",
    "regr.fit(np.array(log_train_sizes).reshape(-1,1), np.array(odds).reshape(-1,1))\n",
    "predictions = regr.predict(regr.predict(np.array(odds).reshape(-1,1)))\n",
    "print('R-squared for log sizes vs. odds: %.2f'% regr.score(np.array(log_train_sizes).reshape(-1,1), odds))\n",
    "\n",
    "#plot a graph\n",
    "# note: the graph shows train_sizes vs. odds, NOT train_sizes vs. accuracy\n",
    "coef = np.polyfit(log_train_sizes, odds, 1)\n",
    "fn_line = np.poly1d(coef)\n",
    "plt.plot(log_train_sizes, odds, 'o', log_train_sizes, fn_line(log_train_sizes), '--k')\n",
    "plt.title(\"Log train sizes vs. odds\")\n",
    "plt.xlabel(\"Log Train Sizes\")\n",
    "plt.ylabel(\"Odds\")\n",
    "plt.show()\n",
    "\n",
    "# Predict\n",
    "# Final printed answer is accuracy, not odds\n",
    "new_pred = regr.predict(predict_on)\n",
    "un_odds = [i[0]/(1+i[0]) for i in new_pred]\n",
    "for i in range(len(predict_on)):\n",
    "    print(\"The estimated accuracy for \"+ str(predict_on[i][0])+ \" training points is \"+ str(un_odds[i]))\n",
    "print('''\n",
    "\n",
    "\n",
    "\n",
    "''')    \n",
    "\n",
    "\n",
    "\n",
    "### trian_sizes vs. odds\n",
    "regr = LinearRegression()\n",
    "regr.fit(train_sizes, odds)\n",
    "predictions = regr.predict(np.array(odds).reshape(-1,1))\n",
    "print('R-squared for odds: %.2f'% regr.score(train_sizes, odds))\n",
    "\n",
    "# plot a graph\n",
    "# note: the graph shows train_sizes vs. odds, NOT train_sizes vs. accuracy\n",
    "coef = np.polyfit(x, odds, 1)\n",
    "fn_line = np.poly1d(coef)\n",
    "plt.plot(x, odds, 'o', x, fn_line(x), '--k')\n",
    "plt.title(\"Train sizes vs. odds\")\n",
    "plt.xlabel(\"Train Sizes\")\n",
    "plt.ylabel(\"Odds\")\n",
    "plt.show()\n",
    "\n",
    "# Predict\n",
    "# Final printed answer is accuracy, not odds\n",
    "new_pred = regr.predict(predict_on)\n",
    "un_odds = [(i)/(1+i) for i in new_pred]\n",
    "for i in range(len(predict_on)):\n",
    "    print(\"The estimated accuracy for \"+ str(predict_on[i][0])+\" training points is \"+ str(un_odds[i]))\n",
    "print('''\n",
    "\n",
    "\n",
    "\n",
    "''')    \n"
   ]
  },
  {
   "cell_type": "markdown",
   "metadata": {
    "colab_type": "text",
    "id": "HYYYL9cGhWAe"
   },
   "source": [
    "**In the first model, the train_sizes vs. accuracies, the estimated accuracies for all the large training sizes were greater than 1 (which is impossible) and an R-squared of .54. The graph seemed to be a logrithmic, rather than linear curve, so I took the log of train_sizes and ran the model again.**\n",
    "\n",
    "**The second model (log of train_sizes vs. accuracies) improved on the first, with an R-squared of .73. The line does seem to fit the data better. However, the results are well over 1.**\n",
    "\n",
    "**The third model looks at log of accuracies vs. odds. Odds is a transformation of accuracies, which scales them from one to infinity rather than from zero to one using this formula: odds(y) = y/(1-y). The R-squared value decreased a to .63. Here, the output below the graph is accuracy, not odds. The accuracies are now within the range of possibility.**\n",
    "\n",
    "**The final model, train_sizes vs. odds, gives the best R-squared of almost 1. Here, the output below the graph is accuracy, not odds. All of the accuracies are below 1.**\n",
    "\n",
    "**There is a common trend in all these models: the accuracy increases with more data points, and we know that accuracy will approach 1 with more and more data.**"
   ]
  },
  {
   "cell_type": "markdown",
   "metadata": {
    "colab_type": "text",
    "id": "geAQJjGRhWAe"
   },
   "source": [
    "### Produce a 1-Nearest Neighbor model and show the confusion matrix. \n",
    "\n",
    "Which pair of digits does the model confuse most often? Show the images of these most often confused digits.\n"
   ]
  },
  {
   "cell_type": "code",
   "execution_count": 16,
   "metadata": {},
   "outputs": [
    {
     "name": "stdout",
     "output_type": "stream",
     "text": [
      "[[101   0   1   0   0   0   1   1   2   0]\n",
      " [  0 116   1   0   0   0   0   0   1   0]\n",
      " [  1   4  84   2   2   0   2   4   6   1]\n",
      " [  0   2   0  84   0   6   0   2   3   0]\n",
      " [  0   0   1   0  78   0   0   2   0  11]\n",
      " [  2   0   0   1   1  77   5   0   2   0]\n",
      " [  1   2   1   0   1   2  94   0   1   0]\n",
      " [  0   1   1   0   0   0   0  96   0   4]\n",
      " [  1   5   4   3   1   3   0   1  72   4]\n",
      " [  0   1   0   0   3   2   0   7   0  82]]\n"
     ]
    },
    {
     "data": {
      "image/png": "[encoded data removed]",
      "text/plain": [
       "<Figure size 432x288 with 1 Axes>"
      ]
     },
     "metadata": {
      "needs_background": "light"
     },
     "output_type": "display_data"
    },
    {
     "data": {
      "image/png": "[encoded data removed]",
      "text/plain": [
       "<Figure size 432x288 with 1 Axes>"
      ]
     },
     "metadata": {
      "needs_background": "light"
     },
     "output_type": "display_data"
    }
   ],
   "source": [
    "## This one determines which digits are most frequently confused for each other.\n",
    "    \n",
    "# Train model and produce matrix\n",
    "K1 = KNeighborsClassifier(n_neighbors=1).fit(mini_train_data, mini_train_labels)\n",
    "predictions = K1.predict(dev_data)\n",
    "matrix = confusion_matrix(dev_labels, predictions)\n",
    "print(matrix)\n",
    "\n",
    "# Count mislabeled images and print an example of each of the most mislabeled\n",
    "mislabel_count = []\n",
    "m = 0 # Flag highest number of mistakes\n",
    "for digit1 in range(10):\n",
    "    for digit2 in range((digit1 +1), 10):\n",
    "        confused_pair = matrix[digit1, digit2] + matrix[digit2, digit1]\n",
    "        if confused_pair > m:\n",
    "            m = confused_pair\n",
    "            mislabel_count = [digit1, digit2]\n",
    "        elif confused_pair == m: # if there is a tie\n",
    "            mislabel_count.append(digit1)\n",
    "            mislabel_count.append(digit2)\n",
    "for label in mislabel_count:\n",
    "    yy = np.where(Y==str(label))[0][:1]\n",
    "    plt.imshow(np.reshape(X[yy], (28,28)), interpolation = 'nearest', cmap = \"gray_r\")\n",
    "    plt.show()"
   ]
  },
  {
   "cell_type": "code",
   "execution_count": 17,
   "metadata": {
    "colab": {},
    "colab_type": "code",
    "id": "Bq36xaQohWAf"
   },
   "outputs": [
    {
     "name": "stdout",
     "output_type": "stream",
     "text": [
      "[[101   0   1   0   0   0   1   1   2   0]\n",
      " [  0 116   1   0   0   0   0   0   1   0]\n",
      " [  1   4  84   2   2   0   2   4   6   1]\n",
      " [  0   2   0  84   0   6   0   2   3   0]\n",
      " [  0   0   1   0  78   0   0   2   0  11]\n",
      " [  2   0   0   1   1  77   5   0   2   0]\n",
      " [  1   2   1   0   1   2  94   0   1   0]\n",
      " [  0   1   1   0   0   0   0  96   0   4]\n",
      " [  1   5   4   3   1   3   0   1  72   4]\n",
      " [  0   1   0   0   3   2   0   7   0  82]]\n"
     ]
    },
    {
     "data": {
      "image/png": "[encoded data removed]",
      "text/plain": [
       "<Figure size 432x288 with 1 Axes>"
      ]
     },
     "metadata": {
      "needs_background": "light"
     },
     "output_type": "display_data"
    },
    {
     "data": {
      "image/png": "[encoded data removed]",
      "text/plain": [
       "<Figure size 432x288 with 1 Axes>"
      ]
     },
     "metadata": {
      "needs_background": "light"
     },
     "output_type": "display_data"
    }
   ],
   "source": [
    "## This one determines which digits are most frequently misidentified.'''\n",
    "    \n",
    "# Train model and produce matrix\n",
    "K1 = KNeighborsClassifier(n_neighbors=1).fit(mini_train_data, mini_train_labels)\n",
    "predictions = K1.predict(dev_data)\n",
    "matrix = confusion_matrix(dev_labels, predictions)\n",
    "print(matrix)\n",
    "\n",
    "# Count mislabeled images and print an example of each of the most mislabeled\n",
    "mislabel_count = []\n",
    "for num in matrix:\n",
    "    mislabel_count.append(sum(num) - max(num))\n",
    "max_mis = max(mislabel_count)\n",
    "most_mislabeled = [i for i, j in enumerate(mislabel_count) if j == max_mis]\n",
    "for label in most_mislabeled:\n",
    "    yy = np.where(Y==str(label))[0][:1]\n",
    "    plt.imshow(np.reshape(X[yy], (28,28)), interpolation = 'nearest', cmap = \"gray_r\")\n",
    "    plt.show()\n"
   ]
  },
  {
   "cell_type": "markdown",
   "metadata": {
    "colab_type": "text",
    "id": "tgqMKb-hhWAh"
   },
   "source": [
    "### Blurring\n",
    "\n",
    "Implement a simplified Gaussian blur by just using the 8 neighboring pixels like this: the smoothed value of a pixel is a weighted combination of the original value and the 8 neighboring values.\n",
    "\n",
    "Apply your blur filter in 3 ways:\n",
    "- Filter the training data but not the dev data\n",
    "- Filter the dev data but not the training data\n",
    "- Filter both training data and dev data\n",
    "\n",
    "Show the accuracy resulting no filter and from each way you apply the filter."
   ]
  },
  {
   "cell_type": "code",
   "execution_count": 18,
   "metadata": {
    "colab": {},
    "colab_type": "code",
    "id": "lSKHmHGshWAi"
   },
   "outputs": [
    {
     "name": "stdout",
     "output_type": "stream",
     "text": [
      "When no data is filtered, accuracy is 0.116\n",
      "When only training data is filtered, accuracy is 0.879\n",
      "When only dev data is filtered, accuracy is 0.906\n",
      "When all data is filtered, accuracy is 0.879\n"
     ]
    }
   ],
   "source": [
    "# I assume it is okay to not blur the first or last line since they are all black.\n",
    "# I assume k=1\n",
    "\n",
    "# Filter the training data\n",
    "train_filtered = []\n",
    "for image in mini_train_data:\n",
    "    train_filtered.append(image.copy())\n",
    "for image in train_filtered:\n",
    "    for i in range(28, len(image)-29):\n",
    "        image[i] = mini_train_data[0][i]*.2 + mini_train_data[0][i-29]*.1 + mini_train_data[0][i-28]*.1 + mini_train_data[0][i-27]*.1 + mini_train_data[0][i-1]*.1 + mini_train_data[0][i+1]*.1 + mini_train_data[0][i+27]*.1 + mini_train_data[0][i+28]*.1 + mini_train_data[0][i+29]*.1\n",
    "\n",
    "# Filter the dev data\n",
    "dev_filtered = []\n",
    "for image in dev_data:\n",
    "    dev_filtered.append(image.copy())\n",
    "for image in dev_filtered:\n",
    "    for i in range(28, len(image)-29):\n",
    "        image[i] = dev_data[0][i]*.2 + dev_data[0][i-29]*.1 + dev_data[0][i-28]*.1 + dev_data[0][i-27]*.1 + dev_data[0][i-1]*.1 + dev_data[0][i+1]*.1 + dev_data[0][i+27]*.1 + dev_data[0][i+28]*.1 + dev_data[0][i+29]*.1\n",
    "\n",
    "# No filtered data\n",
    "K1 = KNeighborsClassifier(n_neighbors=1).fit(mini_train_data, mini_train_labels)\n",
    "predictions = K1.predict(dev_data)\n",
    "errors = []\n",
    "for i in range(len(dev_labels)):\n",
    "    if dev_labels[i] != predictions[i]:\n",
    "        errors.append(dev_labels[i])\n",
    "print(\"When no data is filtered, accuracy is \"+ str(len(errors)/len(mini_train_data)))\n",
    "\n",
    "# Filtered training data but not dev data\n",
    "K1 = KNeighborsClassifier(n_neighbors=1).fit(train_filtered, mini_train_labels)\n",
    "predictions = K1.predict(dev_data)    \n",
    "errors = []\n",
    "for i in range(len(dev_labels)):\n",
    "    if dev_labels[i] != predictions[i]:\n",
    "        errors.append(dev_labels[i])\n",
    "print(\"When only training data is filtered, accuracy is \"+ str(len(errors)/len(mini_train_data)))\n",
    "\n",
    "# Filtered dev data but not training data\n",
    "K1 = KNeighborsClassifier(n_neighbors=1).fit(mini_train_data, mini_train_labels)\n",
    "predictions = K1.predict(dev_filtered)\n",
    "errors = []\n",
    "for i in range(len(dev_labels)):\n",
    "    if dev_labels[i] != predictions[i]:\n",
    "        errors.append(dev_labels[i])\n",
    "print(\"When only dev data is filtered, accuracy is \"+ str(len(errors)/len(mini_train_data)))\n",
    "\n",
    "# Filtered both training data and dev data\n",
    "K1 = KNeighborsClassifier(n_neighbors=1).fit(train_filtered, mini_train_labels)\n",
    "predictions = K1.predict(dev_filtered)\n",
    "errors = []\n",
    "for i in range(len(dev_labels)):\n",
    "    if dev_labels[i] != predictions[i]:\n",
    "        errors.append(dev_labels[i])\n",
    "print(\"When all data is filtered, accuracy is \"+ str(len(errors)/len(mini_train_data)))\n"
   ]
  },
  {
   "cell_type": "markdown",
   "metadata": {
    "colab_type": "text",
    "id": "LtgepWfAhWAk"
   },
   "source": [
    "### Naive Bayes\n",
    "\n",
    "For the first model, map pixel values to either 0 or 1. Use some reasonable threshold to separate white from black.  Use `BernoulliNB` to produce the model.\n",
    "\n",
    "For the second model, map pixel values to either 0, 1, or 2, representing white, gray, or black. Use some reasonable thresholds to separate white from gray from black.  Use `MultinomialNB` to produce the model. "
   ]
  },
  {
   "cell_type": "code",
   "execution_count": 19,
   "metadata": {
    "colab": {},
    "colab_type": "code",
    "id": "eGpH-4IQhWAk"
   },
   "outputs": [
    {
     "name": "stdout",
     "output_type": "stream",
     "text": [
      "In the black and white binomial trial, accuracy is 0.809\n",
      "In the black, gray, and white multinomial trial, accuracy is 0.807\n"
     ]
    }
   ],
   "source": [
    "##Pixels are black and white\n",
    "bw_train = []\n",
    "for image in mini_train_data:\n",
    "    bw_train.append(image.copy())\n",
    "for image in bw_train:\n",
    "    for i in range(len(image)):\n",
    "        if i <5:\n",
    "            i = 0\n",
    "        else:\n",
    "            i = 1\n",
    "\n",
    "bw_dev = []\n",
    "for image in dev_data:\n",
    "    bw_dev.append(image.copy())\n",
    "for image in bw_dev:\n",
    "    for i in range(len(image)):\n",
    "        if i <5:\n",
    "            i = 0\n",
    "        else:\n",
    "            i = 1\n",
    "\n",
    "##Pixels are black, gray, and white\n",
    "bgw_train = []\n",
    "for image in mini_train_data:\n",
    "    bgw_train.append(image.copy())\n",
    "for image in bgw_train:\n",
    "    for i in range(len(image)):\n",
    "        if i < (1/3):\n",
    "            i = 0\n",
    "        elif i > (2/3):\n",
    "            i = 2\n",
    "        else:\n",
    "            i = 1\n",
    "\n",
    "bgw_dev = []\n",
    "for image in dev_data:\n",
    "    bgw_dev.append(image.copy())\n",
    "for image in bgw_dev:\n",
    "    for i in range(len(image)):\n",
    "        if i < (1/3):\n",
    "            i = 0\n",
    "        elif i > (2/3):\n",
    "            i = 2\n",
    "        else:\n",
    "            i = 1\n",
    "\n",
    "# Run black and white binomial trial\n",
    "bw = BernoulliNB()\n",
    "bw.fit(bw_train, mini_train_labels)\n",
    "print(\"In the black and white binomial trial, accuracy is \"+ str(bw.score(bw_dev, dev_labels)))\n",
    "\n",
    "# Run black, gray, and white multinomial trial\n",
    "bgw = MultinomialNB()\n",
    "bgw.fit(bgw_train, mini_train_labels)\n",
    "print(\"In the black, gray, and white multinomial trial, accuracy is \"+ str(bgw.score(bgw_dev, dev_labels)))\n"
   ]
  },
  {
   "cell_type": "markdown",
   "metadata": {
    "colab_type": "text",
    "id": "zNLrgggohWAm"
   },
   "source": [
    "**The multinomial model did not improve on the results because the multinomial model introduces more noise, which then leads to overfitting.**"
   ]
  },
  {
   "cell_type": "markdown",
   "metadata": {
    "colab_type": "text",
    "id": "PqjbRLg7hWAm"
   },
   "source": [
    "### LaPlace Smoothing\n",
    "\n",
    "Search across several values for the LaPlace smoothing parameter (alpha) to find its effect on a Bernoulli Naive Bayes model's performance.  "
   ]
  },
  {
   "cell_type": "code",
   "execution_count": 20,
   "metadata": {},
   "outputs": [],
   "source": [
    "#This cell makes Python ignore one of the useless warnings I was getting\n",
    "import warnings\n",
    "warnings.simplefilter(action='ignore', category=FutureWarning) "
   ]
  },
  {
   "cell_type": "code",
   "execution_count": 21,
   "metadata": {},
   "outputs": [
    {
     "name": "stderr",
     "output_type": "stream",
     "text": [
      "/Users/pattidegner/opt/anaconda3/lib/python3.7/site-packages/sklearn/model_selection/_search.py:814: DeprecationWarning: The default of the `iid` parameter will change from True to False in version 0.22 and will be removed in 0.24. This will change numeric results when test-set sizes are unequal.\n",
      "  DeprecationWarning)\n"
     ]
    },
    {
     "name": "stdout",
     "output_type": "stream",
     "text": [
      "[0.804 0.818 0.822 0.823 0.82  0.818 0.817 0.807 0.77 ]\n",
      "\n",
      "Best alpha =  {'alpha': 0.01}\n"
     ]
    },
    {
     "name": "stderr",
     "output_type": "stream",
     "text": [
      "/Users/pattidegner/opt/anaconda3/lib/python3.7/site-packages/sklearn/model_selection/_search.py:814: DeprecationWarning: The default of the `iid` parameter will change from True to False in version 0.22 and will be removed in 0.24. This will change numeric results when test-set sizes are unequal.\n",
      "  DeprecationWarning)\n"
     ]
    }
   ],
   "source": [
    "def LaPlace_alpha(alphas):\n",
    "    '''Tests various alphas to determine which one produces the best model.'''\n",
    "    \n",
    "    model = GridSearchCV(BernoulliNB(), alphas)\n",
    "    model.fit(mini_train_data, mini_train_labels)\n",
    "    print(model.cv_results_['mean_test_score'])\n",
    "    return model.fit(mini_train_data, mini_train_labels)\n",
    "    \n",
    "\n",
    "alphas = {'alpha': [1.0e-10, 0.0001, 0.001, 0.01, 0.1, 0.5, 1.0, 2.0, 10.0]}\n",
    "nb = LaPlace_alpha(alphas)\n",
    "print()\n",
    "print(\"Best alpha = \", nb.best_params_)"
   ]
  },
  {
   "cell_type": "markdown",
   "metadata": {
    "colab_type": "text",
    "id": "1yEg9keThWAp"
   },
   "source": [
    "**The best alpha is .01 with an accuracy of .823. The accuracy of the model when it is near zero is .804. It makes sense that zero is not the best because then the boundary line between digits is less smooth (overfitted). The higher alpha smoothes the line and increases accuracy, but only to a point. After that it decreases accuracy as the line doesn't fit the data.** "
   ]
  },
  {
   "cell_type": "markdown",
   "metadata": {
    "colab_type": "text",
    "id": "B07GDiDdhWAq"
   },
   "source": [
    "### Guassian Naive Bayes\n",
    "\n",
    "Apply a simple fix to this model so that the model accuracy is around the same as for a Bernoulli Naive Bayes model. Show the model accuracy before your fix and the model accuracy after your fix. "
   ]
  },
  {
   "cell_type": "code",
   "execution_count": 22,
   "metadata": {
    "colab": {},
    "colab_type": "code",
    "id": "gBLbTMWChWAq"
   },
   "outputs": [
    {
     "name": "stdout",
     "output_type": "stream",
     "text": [
      "Initial model has accuracy 0.593\n",
      " avg theta = 0.13233917230617082 and avg sigma =0.05299707504881932\n",
      "\n",
      "Final model has accuracy 0.817 with a smoothing factor of 0.1\n",
      " avg theta = 0.13233917230617082 and avg sigma =0.07314040555249945\n"
     ]
    }
   ],
   "source": [
    "# Create basic model\n",
    "model = GaussianNB()\n",
    "model.fit(mini_train_data, mini_train_labels)\n",
    "theta_list = []\n",
    "for theta in model.theta_:\n",
    "    theta_list.append(np.mean(theta))\n",
    "sigma_list = []\n",
    "for sigma in model.sigma_:\n",
    "    sigma_list.append(np.mean(sigma))\n",
    "print(\"Initial model has accuracy \" + str(model.score(dev_data, dev_labels))+\\\n",
    "      \"\\n avg theta = \"+str(np.mean(theta_list))+\\\n",
    "      \" and avg sigma =\"+str(np.mean(sigma_list)))\n",
    "\n",
    "# Identify best smoothing\n",
    "smoothed_list = []\n",
    "var_smoothing_options = [1.0e-10, 0.0001, 0.001, 0.01, 0.1, 0.5, 1.0, 2.0, 10.0]\n",
    "for smooth in var_smoothing_options:\n",
    "    model2 = GaussianNB(var_smoothing = smooth)\n",
    "    model2.fit(mini_train_data, mini_train_labels)\n",
    "    smoothed_list.append(model2.score(dev_data, dev_labels))\n",
    "\n",
    "# Create final model with smoothing factor that maximizes accuracy\n",
    "best = smoothed_list.index(max(smoothed_list))\n",
    "final_model = GaussianNB(var_smoothing = var_smoothing_options[best])\n",
    "final_model.fit(mini_train_data, mini_train_labels)\n",
    "theta_list = []\n",
    "for theta in final_model.theta_:\n",
    "    theta_list.append(np.mean(theta))\n",
    "sigma_list = []\n",
    "for sigma in final_model.sigma_:\n",
    "    sigma_list.append(np.mean(sigma))\n",
    "print()\n",
    "print(\"Final model has accuracy \" + str(final_model.score(dev_data, dev_labels))+\\\n",
    "      \" with a smoothing factor of \"+str(var_smoothing_options[best])+\"\\n avg theta = \"+\\\n",
    "        str(np.mean(theta_list))+\" and avg sigma =\"+str(np.mean(sigma_list)))\n"
   ]
  },
  {
   "cell_type": "markdown",
   "metadata": {
    "colab_type": "text",
    "id": "1SyHTEJohWAt"
   },
   "source": [
    "**The simple fix used here is to introduce a smoothing parameter to the Gaussian model. The average mean (theta) stays the same between the original model and the model with smoothing, but the varince (sigma) increases as the smoothing parameter increases.**"
   ]
  },
  {
   "cell_type": "markdown",
   "metadata": {
    "colab_type": "text",
    "id": "dgZMuc1VhWAt"
   },
   "source": [
    "### Generate digit images\n",
    "\n",
    "Produce a Bernoulli Naive Bayes model and then use it to generate a 10x20 grid with 20 example images of each digit. Each pixel output should be either 0 or 1, based on comparing some randomly generated number to the estimated probability of the pixel being either 0 or 1.  Show the grid."
   ]
  },
  {
   "cell_type": "code",
   "execution_count": 23,
   "metadata": {
    "colab": {},
    "colab_type": "code",
    "id": "ktii-Mp-hWAu"
   },
   "outputs": [
    {
     "data": {
      "image/png": "[encoded data removed]",
      "text/plain": [
       "<Figure size 432x288 with 200 Axes>"
      ]
     },
     "metadata": {
      "needs_background": "light"
     },
     "output_type": "display_data"
    }
   ],
   "source": [
    "fig, axs = plt.subplots(10, 20) #sets up Nx10 grid\n",
    "model = BernoulliNB().fit(X,Y)\n",
    "\n",
    "# Generate images\n",
    "for i in range(10):\n",
    "    for j in range(20):\n",
    "        num = np.exp(model.feature_log_prob_[i])\n",
    "        for k, pix in enumerate(num):\n",
    "            n = np.random.rand()\n",
    "            if pix>n:\n",
    "                num[k] = 1\n",
    "            else:\n",
    "                num[k] = 0\n",
    "\n",
    "        # Put each image in its place\n",
    "        axs[i, j].imshow(num.reshape(28,28), interpolation = \"nearest\", cmap = \"gray_r\")\n",
    "        axs[i, j].axis(\"off\")\n",
    "plt.show()"
   ]
  },
  {
   "cell_type": "markdown",
   "metadata": {
    "colab_type": "text",
    "id": "SuQd1fTGhWAw"
   },
   "source": [
    "**These images are hazier due to the randomization aspect. Most of them bear a resemblance to the actual number, but for some, especially 4, 5, and 9, it is hard to tell what the number is supposed to be. Even though the pixel is compared to a random number, we can still see what the number is supposed ot be, for the most part. This shows how powerful Naive Bayes can be.**"
   ]
  },
  {
   "cell_type": "markdown",
   "metadata": {
    "colab_type": "text",
    "id": "ksHMg73uhWAx"
   },
   "source": [
    "### Calibration Analysis\n",
    "\n",
    "Recall that a strongly calibrated classifier is rougly 90% accurate when the posterior probability of the predicted class is 0.9. A weakly calibrated classifier is more accurate when the posterior probability of the predicted class is 90% than when it is 80%. A poorly calibrated classifier has no positive correlation between posterior probability and accuracy.  \n",
    "\n",
    "Produce a Bernoulli Naive Bayes model.  Evaluate performance: partition the dev set into several buckets based on the posterior probabilities of the predicted classes - think of a bin in a histogram- and then estimate the accuracy for each bucket. So, for each prediction, find the bucket to which the maximum posterior probability belongs, and update \"correct\" and \"total\" counters accordingly.  Show the accuracy for each bucket."
   ]
  },
  {
   "cell_type": "code",
   "execution_count": 24,
   "metadata": {
    "colab": {},
    "colab_type": "code",
    "id": "a1N-St12hWAy"
   },
   "outputs": [
    {
     "name": "stdout",
     "output_type": "stream",
     "text": [
      "p(pred) is 0.0000000000000 to 0.5000000000000    total =   0    accuracy = 0.000\n",
      "p(pred) is 0.5000000000000 to 0.9000000000000    total =  31    accuracy = 0.355\n",
      "p(pred) is 0.9000000000000 to 0.9990000000000    total =  67    accuracy = 0.433\n",
      "p(pred) is 0.9990000000000 to 0.9999900000000    total =  59    accuracy = 0.458\n",
      "p(pred) is 0.9999900000000 to 0.9999999000000    total =  46    accuracy = 0.652\n",
      "p(pred) is 0.9999999000000 to 0.9999999990000    total =  62    accuracy = 0.774\n",
      "p(pred) is 0.9999999990000 to 0.9999999999900    total =  33    accuracy = 0.788\n",
      "p(pred) is 0.9999999999900 to 0.9999999999999    total =  43    accuracy = 0.791\n",
      "p(pred) is 0.9999999999999 to 1.0000000000000    total = 659    accuracy = 0.938\n"
     ]
    }
   ],
   "source": [
    "buckets = [0.5, 0.9, 0.999, 0.99999, 0.9999999, 0.999999999, 0.99999999999, 0.9999999999999, 1.0]\n",
    "correct = [0 for i in buckets]\n",
    "total = [0 for i in buckets]\n",
    "\n",
    "# Create model. I assume alpha = .001 is okay.\n",
    "model = BernoulliNB(alpha = .001).fit(mini_train_data, mini_train_labels)\n",
    "\n",
    "for i in range(len(dev_data)):\n",
    "\n",
    "    # Determine bin\n",
    "    max_guess = max(model.predict_proba(dev_data)[i])\n",
    "    bucket = 15\n",
    "    for bins in buckets:\n",
    "        if bucket < 10:\n",
    "            continue\n",
    "        elif bins < max_guess:\n",
    "            continue\n",
    "        else:\n",
    "            bucket = buckets.index(bins)\n",
    "\n",
    "    # Determine if correct label, if so add to correct bin\n",
    "    guess = model.predict(dev_data)[i]\n",
    "    true_label = dev_labels[i]\n",
    "    if guess == true_label:\n",
    "        correct[bucket] += 1\n",
    "\n",
    "    # Add to total\n",
    "    total[bucket]+=1\n",
    "\n",
    "\n",
    "for i in range(len(buckets)):\n",
    "    accuracy = 0.0\n",
    "    if (total[i] > 0): accuracy = correct[i] / total[i]\n",
    "    print('p(pred) is %.13f to %.13f    total = %3d    accuracy = %.3f' % (0 if i==0 else buckets[i-1], buckets[i], total[i], accuracy))"
   ]
  },
  {
   "cell_type": "markdown",
   "metadata": {
    "colab_type": "text",
    "id": "h-4qQsrrhWA1"
   },
   "source": [
    "**When the posterior probability is .9, the accuracy is only 43.3%, not 90% as we would expect from a strongly calibrated classifier. However, the accuracy increases as the posterior probability increases. This correlation indicates that this is a weakly calibrated classifier. If it were poorly classified, the accuracy would not increase with the posterior probability.**"
   ]
  }
 ],
 "metadata": {
  "colab": {
   "name": "firstname_lastname_p1.ipynb",
   "private_outputs": true,
   "provenance": [
    {
     "file_id": "https://github.com/MIDS-W207/Master/blob/master/Projects/firstname_lastname_p1.ipynb",
     "timestamp": 1557957807607
    }
   ],
   "version": "0.3.2"
  },
  "kernelspec": {
   "display_name": "Python 3",
   "language": "python",
   "name": "python3"
  },
  "language_info": {
   "codemirror_mode": {
    "name": "ipython",
    "version": 3
   },
   "file_extension": ".py",
   "mimetype": "text/x-python",
   "name": "python",
   "nbconvert_exporter": "python",
   "pygments_lexer": "ipython3",
   "version": "3.7.4"
  },
  "toc": {
   "base_numbering": 1,
   "nav_menu": {},
   "number_sections": false,
   "sideBar": true,
   "skip_h1_title": true,
   "title_cell": "Table of Contents",
   "title_sidebar": "Contents",
   "toc_cell": false,
   "toc_position": {},
   "toc_section_display": true,
   "toc_window_display": false
  }
 },
 "nbformat": 4,
 "nbformat_minor": 1
}
